{
 "cells": [
  {
   "cell_type": "code",
   "execution_count": 1,
   "metadata": {},
   "outputs": [
    {
     "name": "stderr",
     "output_type": "stream",
     "text": [
      "/Users/thomasjhojlunddodd/anaconda3/lib/python3.7/site-packages/networkx/drawing/nx_pylab.py:579: MatplotlibDeprecationWarning: \n",
      "The iterable function was deprecated in Matplotlib 3.1 and will be removed in 3.3. Use np.iterable instead.\n",
      "  if not cb.iterable(width):\n"
     ]
    }
   ],
   "source": [
    "import geopandas as gp\n",
    "import numpy as np\n",
    "gdf=gp.read_file(\"/Users/thomasjhojlunddodd/documents/data_analysis_malcolm/SLE_KenemaRadius/SLE_KenemaRadius_OSMBuildings.geojson\")\n",
    "gdf[\"x\"] = gdf.centroid.map(lambda p: p.x)\n",
    "gdf[\"y\"] = gdf.centroid.map(lambda p: p.y)\n",
    "gdf1 = gdf[['x','y']]\n",
    "points = gdf1.to_numpy()\n",
    "\n",
    "from scipy.spatial import Delaunay\n",
    "tri = Delaunay(points)\n",
    "\n",
    "import matplotlib.pyplot as plt\n",
    "plt.triplot(points[:,0], points[:,1], tri.simplices.copy())\n",
    "plt.plot(points[:,0], points[:,1], 'o')\n",
    "\n",
    "# Get Delaunay triagulation of coordinates\n",
    "from scipy.spatial import Delaunay\n",
    "tri = Delaunay(points)\n",
    "indices = tri.vertex_neighbor_vertices[0]\n",
    "indptr = tri.vertex_neighbor_vertices[1]\n",
    "\n",
    "#Instantiate dictionary to hold neighbors of each point and data frame to hold distances between neighbours.\n",
    "import pandas as pd\n",
    "neighbors = {}\n",
    "locations = {}\n",
    "distances = pd.DataFrame(columns=[\"source\", \"dest\", \"distance\"])\n",
    "\n",
    "#Get dictionary of neighbours of all points and a dictionary of locations of all points\n",
    "no_points = gdf1.shape[0]  # gives number of row count\n",
    "\n",
    "for k in range (0, no_points):\n",
    "    neighbors[k] = indptr[indices[k]:indices[k+1]]\n",
    "    locations[k] = points[k][0], points[k][1]\n",
    "    \n",
    "#Get distances between delaunay neighbors\n",
    "import math\n",
    "for key, values in neighbors.items():\n",
    "    for value in values:\n",
    "        coord_1 = points[key]\n",
    "        coord_2 = points[value]\n",
    "        dist = math.sqrt(((coord_1[0]-coord_2[0])**2)+((coord_1[1]-coord_2[1])**2))\n",
    "        #dist = haversine_dist_from_coords(coord_1[1], coord_1[0], coord_2[1], coord_2[0])\n",
    "        distances = distances.append({\"source\":key, \"dest\":value, \"distance\":dist}, ignore_index=True)\n",
    "\n",
    "import networkx as nx\n",
    "G = nx.Graph()\n",
    "\n",
    "for index, row in distances.iterrows():\n",
    "    G.add_edge(row['source'], row['dest'], weight=row['distance'])\n",
    "T = nx.minimum_spanning_tree(G)\n",
    "\n",
    "nx.draw(T,pos=locations,node_size=15)\n",
    "\n",
    "import shapely\n",
    "list = []\n",
    "\n",
    "for x in T.edges:\n",
    "    list.append(shapely.geometry.LineString([locations[x[0]],locations[x[1]]]))\n",
    "\n",
    "Tgdf= gp.GeoDataFrame(geometry = list)\n",
    "Tgdf.to_file(\"/Users/thomasjhojlunddodd/documents/data_analysis_malcolm/useful.shp\")"
   ]
  },
  {
   "cell_type": "code",
   "execution_count": null,
   "metadata": {},
   "outputs": [],
   "source": []
  }
 ],
 "metadata": {
  "kernelspec": {
   "display_name": "Python 3",
   "language": "python",
   "name": "python3"
  },
  "language_info": {
   "codemirror_mode": {
    "name": "ipython",
    "version": 3
   },
   "file_extension": ".py",
   "mimetype": "text/x-python",
   "name": "python",
   "nbconvert_exporter": "python",
   "pygments_lexer": "ipython3",
   "version": "3.7.4"
  }
 },
 "nbformat": 4,
 "nbformat_minor": 2
}
